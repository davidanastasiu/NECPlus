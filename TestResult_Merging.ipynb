{
 "cells": [
  {
   "cell_type": "code",
   "execution_count": 8,
   "metadata": {},
   "outputs": [],
   "source": [
    "import pandas as pd\n",
    "import numpy as np\n",
    "import math\n",
    "\n",
    "sensor_id = 4004\n",
    "\n",
    "# classification\n",
    "diff_label = pd.read_csv('./test/'+str(sensor_id)+'classification.tsv', sep='\\t')\n",
    "label = np.array(diff_label)\n",
    "x = label\n",
    "\n",
    "# norm values\n",
    "diff_norm = pd.read_csv('./test/'+str(sensor_id)+'normal.tsv', sep='\\t')\n",
    "diff_norm0 = np.array(diff_norm)\n",
    "diff_norm0 = diff_norm0*(1-x)\n",
    "\n",
    "# extreme values\n",
    "diff_extream = pd.read_csv('./test/'+str(sensor_id)+'extreme.tsv', sep='\\t')\n",
    "diff_extream0 = np.array(diff_extream)\n",
    "diff_extream0 = diff_extream0*x\n",
    "\n",
    "# merge\n",
    "comb = diff_norm0 + diff_extream0\n",
    "test_set = pd.read_csv('./data/test_timestamps_24avg.tsv', sep='\\t')\n",
    "test_points = test_set[\"Start\"]\n",
    "\n",
    "if(str(sensor_id)[0]=='4'):\n",
    "    trainX = pd.read_csv('./data'+'/reservoir_stor_'+str(sensor_id)+'_sof24.tsv', sep='\\t')\n",
    "elif(str(sensor_id)[0]=='6'):\n",
    "    trainX = pd.read_csv('./data'+'/raingauge_byhour_'+str(sensor_id)+'_sof.tsv', sep='\\t')\n",
    "else:\n",
    "    print(\"Error: the support sensor type is 4*** or 6****.\")\n",
    "    sys.exit()\n",
    "    \n",
    "i = 0\n",
    "pre_yss_NEC = []\n",
    "for ii in test_points:\n",
    "    val_point = ii\n",
    "    point = trainX[trainX[\"TSC_TSTAMP_UTC\"]==ii].index.values[0]\n",
    "    pre_y = trainX[point-1:point][\"TSC_VALUE_F\"].values.tolist()[0]\n",
    "    pre_ys = []\n",
    "    for j in range(72):\n",
    "        diff = comb[i][j+1]\n",
    "        pre_y = pre_y + diff\n",
    "        pre_ys.append(pre_y)\n",
    "    pre_yss_NEC.append(pre_ys)\n",
    "    i += 1\n",
    "    \n",
    "# save the final data\n",
    "aa = pd.DataFrame(data=pre_yss_NEC)\n",
    "aa.to_csv(\"./test/\"+str(sensor_id)+'final.tsv', sep='\\t')    "
   ]
  },
  {
   "cell_type": "code",
   "execution_count": null,
   "metadata": {},
   "outputs": [],
   "source": []
  }
 ],
 "metadata": {
  "kernelspec": {
   "display_name": "Python 3",
   "language": "python",
   "name": "python3"
  },
  "language_info": {
   "codemirror_mode": {
    "name": "ipython",
    "version": 3
   },
   "file_extension": ".py",
   "mimetype": "text/x-python",
   "name": "python",
   "nbconvert_exporter": "python",
   "pygments_lexer": "ipython3",
   "version": "3.8.3"
  }
 },
 "nbformat": 4,
 "nbformat_minor": 4
}
